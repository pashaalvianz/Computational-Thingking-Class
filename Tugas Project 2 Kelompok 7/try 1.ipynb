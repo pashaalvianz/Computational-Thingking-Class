# Well Testing Analysis - Deliverability Test Simulation

import pandas as pd
import matplotlib.pyplot as plt
import numpy as np
from scipy.optimize import curve_fit

# Load Data
def load_data(file_path):
    """Load well testing data from an Excel file."""
    try:
        data = pd.read_excel(file_path)
        print("Data loaded successfully!")
        return data
    except Exception as e:
        print(f"Error loading file: {e}")
        return None

# Plot Pressure vs Time
def plot_pressure_time(data):
    """Plot Pressure vs Time (log-log and semi-log)."""
    try:
        time = data['Time']
        pressure = data['Pressure']

        plt.figure(figsize=(12, 6))

        # Log-log plot
        plt.subplot(1, 2, 1)
        plt.loglog(time, pressure, marker='o', label='Pressure vs Time')
        plt.xlabel('Time (log scale)')
        plt.ylabel('Pressure (log scale)')
        plt.title('Log-Log Plot: Pressure vs Time')
        plt.grid(True, which='both', linestyle='--', linewidth=0.5)
        plt.legend()

        # Semi-log plot
        plt.subplot(1, 2, 2)
        plt.semilogx(time, pressure, marker='o', label='Pressure vs Time')
        plt.xlabel('Time (log scale)')
        plt.ylabel('Pressure')
        plt.title('Semi-Log Plot: Pressure vs Time')
        plt.grid(True, which='both', linestyle='--', linewidth=0.5)
        plt.legend()

        plt.tight_layout()
        plt.show()

    except KeyError:
        print("Data must contain 'Time' and 'Pressure' columns.")

# Horner Analysis (Example Function)
def horner_analysis(data, q, B, mu):
    """Perform Horner Analysis to estimate permeability and skin."""
    try:
        time = data['Time']
        pressure = data['Pressure']

        # Calculate Horner time
        t_p = max(time)  # Production time
        horner_time = (t_p + time) / time

        # Plot Horner Plot
        plt.figure(figsize=(8, 6))
        plt.plot(np.log10(horner_time), pressure, 'o-', label='Horner Plot')
        plt.xlabel('log(Horner Time)')
        plt.ylabel('Pressure')
        plt.title('Horner Plot: Pressure vs log(Horner Time)')
        plt.grid(True, linestyle='--', linewidth=0.5)
        plt.legend()
        plt.show()

        # Linear regression for parameter estimation
        def linear_model(x, m, c):
            return m * x + c

        popt, _ = curve_fit(linear_model, np.log10(horner_time), pressure)
        slope, intercept = popt

        # Calculate permeability and skin
        k = 162.6 * q * B * mu / slope  # Permeability (mD)
        skin = (intercept - pressure[0]) / slope

        print(f"Estimated Permeability (k): {k:.2f} mD")
        print(f"Estimated Skin (S): {skin:.2f}")
        return k, skin

    except KeyError:
        print("Data must contain 'Time' and 'Pressure' columns.")

# Example Usage
if __name__ == "__main__":
    file_path = "well_test_data.xlsx"  # Replace with your file path
    data = load_data(file_path)

    if data is not None:
        print("Preview of Data:")
        print(data.head())
        
        # Plot Pressure vs Time
        plot_pressure_time(data)

        # Perform Horner Analysis
        q = 100  # Flow rate (example value in STB/day)
        B = 1.2  # Formation volume factor (example value in RB/STB)
        mu = 0.5  # Viscosity (example value in cp)
        horner_analysis(data, q, B, mu)
